{
  "nbformat": 4,
  "nbformat_minor": 0,
  "metadata": {
    "colab": {
      "provenance": [],
      "authorship_tag": "ABX9TyOeD84xD9vCrq/zwef364uP",
      "include_colab_link": true
    },
    "kernelspec": {
      "name": "python3",
      "display_name": "Python 3"
    },
    "language_info": {
      "name": "python"
    }
  },
  "cells": [
    {
      "cell_type": "markdown",
      "metadata": {
        "id": "view-in-github",
        "colab_type": "text"
      },
      "source": [
        "<a href=\"https://colab.research.google.com/github/PratikshaKage/Voice-Cloning/blob/main/voice_cloning.ipynb\" target=\"_parent\"><img src=\"https://colab.research.google.com/assets/colab-badge.svg\" alt=\"Open In Colab\"/></a>"
      ]
    },
    {
      "cell_type": "code",
      "source": [
        "!pip3 install -U scipy\n",
        "\n",
        "!git clone https://github.com/jnordberg/tortoise-tts.git\n",
        "%cd tortoise-tts\n",
        "!pip3 install -r requirements.txt\n",
        "!pip3 install transformers==4.19.0 einops==0.5.0 rotary_embedding_torch==0.1.5 unidecode==1.3.5\n",
        "!python3 setup.py install\n",
        "\n",
        "import torch\n",
        "import torchaudio\n",
        "import torch.nn as nn\n",
        "import torch.nn.functional as F\n",
        "\n",
        "import IPython\n",
        "\n",
        "from tortoise.api import TextToSpeech\n",
        "from tortoise.utils.audio import load_audio, load_voice, load_voices\n",
        "\n",
        "tts = TextToSpeech()\n",
        "\n",
        "import os\n",
        "from google.colab import files"
      ],
      "metadata": {
        "id": "CEUdHZ_l8GVw"
      },
      "execution_count": null,
      "outputs": []
    },
    {
      "cell_type": "code",
      "source": [
        "CUSTOM_VOICE_NAME=\"custom\"\n",
        "custom_voice_folder = f\"tortoise/voices/{CUSTOM_VOICE_NAME}\"\n",
        "os.makedirs(custom_voice_folder)\n",
        "for i, file_data in enumerate(files.upload().values()):\n",
        "  with open(os.path.join(custom_voice_folder, f'{i}.wav'), 'wb') as f:\n",
        "    f.write(file_data)"
      ],
      "metadata": {
        "id": "CDIAapc_8oxW"
      },
      "execution_count": null,
      "outputs": []
    },
    {
      "cell_type": "code",
      "source": [
        "\n",
        "from torchaudio import transforms\n",
        "voice_samples, conditioning_latents = load_voice(CUSTOM_VOICE_NAME)\n",
        "custom_audio_file = \"audio2.wav\"\n",
        "custom_audio, = load_audio(custom_audio_file, sampling_rate=44100)\n",
        "\n",
        "# Extract the features of the custom audio file\n",
        "melspectrogram = transforms.MelSpectrogram(sample_rate=44100, n_mels=128)\n",
        "features = melspectrogram(custom_audio)\n",
        "\n",
        "# Create a tensor that represents the features of the custom audio file\n",
        "tensor = features.unsqueeze(0)\n",
        "text = \"Machine learning is a transformative field of artificial intelligence that empowers computers to learn and improve from experience without being explicitly programmed.\"\n",
        "\n",
        "preset = \"fast\"\n",
        "\n",
        "conditioning_latents = tensor.clone()\n",
        "conditioning_latents[0, 0] *= 6  # Increase the pitch\n",
        "conditioning_latents[0, 1] *= 0.50  # Decrease the voicing\n",
        "conditioning_latents[0, 2] *= 6   # Increase the rounding of vowels\n",
        "conditioning_latents[0, 3] *= 0.75  # Decrease the aspiration of consonants\n",
        "conditioning_latents[0, 10] = 0.50 # Decrease speech rate\n",
        "conditioning_latents[0, 11] = 2 # Increase intonation\n",
        "conditioning_latents[0, 12] = 3  # Increase syllabic rate\n",
        "conditioning_latents[0, 13] = 6 # Increase word stress\n",
        "conditioning_latents[0, 15] = 1 # Increase breath intake\n",
        "conditioning_latents[0, 16] = 20.5# Increase accent\n",
        "\n",
        "\n",
        "gen = tts.tts_with_preset(text, voice_samples=voice_samples, conditioning_latents=conditioning_latents, preset=preset)\n",
        "\n",
        "torchaudio.save(f'generated-{CUSTOM_VOICE_NAME}.wav', gen.squeeze(0).cpu(), 24000)\n",
        "\n",
        "IPython.display.Audio(f'generated-{CUSTOM_VOICE_NAME}.wav')"
      ],
      "metadata": {
        "id": "WcGxBN7O8GYg"
      },
      "execution_count": null,
      "outputs": []
    },
    {
      "cell_type": "code",
      "source": [],
      "metadata": {
        "id": "rNVFusX78GbP"
      },
      "execution_count": null,
      "outputs": []
    }
  ]
}